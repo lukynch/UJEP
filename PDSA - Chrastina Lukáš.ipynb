{
 "cells": [
  {
   "cell_type": "markdown",
   "id": "c1fbd448",
   "metadata": {},
   "source": [
    "# Kruskalův algoritmus"
   ]
  },
  {
   "cell_type": "markdown",
   "id": "be358032",
   "metadata": {},
   "source": [
    "Kruskalův algoritmus lze použít pro nalezení minimální kostry grafu. Algoritmus nejprve seřadí hrany grafu dle jejich ohodnocení. Následně tyto hrany zkouší přidat do kostry tak, aby po přidání hrany nevznikl v dosavadní kostře cyklus. Pokud cyklus po přidání hrany do kostry nevznikne, je přidaná hrana součástí minimální kostry grafu. V opačném případě, kdy by po přidání hrany do kostry vznikl cyklus a tím by došlo k porušení vlastností kostry, hrana není přidána. Při přidávání hrany nemusíme testovat přítomnost cyklu, postačí zjistit, zdali přidávaná hrana spojuje různé komponenty souvislosti."
   ]
  },
  {
   "cell_type": "markdown",
   "id": "fa851de0",
   "metadata": {},
   "source": [
    "# Import potřebných knihoven"
   ]
  },
  {
   "cell_type": "code",
   "execution_count": 1,
   "id": "7b0e896f",
   "metadata": {},
   "outputs": [],
   "source": [
    "import matplotlib.pyplot as plt\n",
    "import networkx as nx"
   ]
  },
  {
   "cell_type": "markdown",
   "id": "f77d9000",
   "metadata": {},
   "source": [
    "# Třída pro vytvoření a vykreslení grafu a nelezní minimální kostry"
   ]
  },
  {
   "cell_type": "code",
   "execution_count": 2,
   "id": "c3d79c40",
   "metadata": {},
   "outputs": [],
   "source": [
    "class Graph:\n",
    "\n",
    "    def __init__(self, vertices):\n",
    "        self.V = vertices  # No. of vertices\n",
    "        self.graph = []  # default dictionary\n",
    "        # to store graph\n",
    "        self.G = nx.Graph()\n",
    "        \n",
    "        \n",
    "    # function to add an edge to graph\n",
    "    def addEdge(self, u, v, w):\n",
    "        self.graph.append([u, v, w])\n",
    "        self.G.add_edge(u, v, weight=w)\n",
    "        \n",
    "    def visGraph(self):\n",
    "        self.pos = nx.spring_layout(self.G, seed = 4)\n",
    "        # nodes\n",
    "        nx.draw_networkx_nodes(self.G, self.pos, node_size = 700)\n",
    "        # edges\n",
    "        nx.draw_networkx_edges(self.G, self.pos, edgelist = self.G.edges, width=6)\n",
    "        self.visLabels()\n",
    "        \n",
    "    def visMinimalGraph(self, edges):\n",
    "        self.visGraph()\n",
    "        nx.draw_networkx_edges(g.G, self.pos, edgelist=edges, width=6, edge_color=\"c\")\n",
    "        self.visLabels()\n",
    "    \n",
    "    def visLabels(self):\n",
    "        # labels\n",
    "        nx.draw_networkx_labels(self.G, self.pos, font_size=20, font_family=\"sans-serif\")\n",
    "        labels = nx.get_edge_attributes(self.G, 'weight')\n",
    "        nx.draw_networkx_edge_labels(self.G, self.pos, edge_labels = labels)        \n",
    "\n",
    "    # A utility function to find set of an element i\n",
    "    # (uses path compression technique)\n",
    "    def find(self, parent, i):\n",
    "        if parent[i] == i:\n",
    "            return i\n",
    "        return self.find(parent, parent[i])\n",
    " \n",
    "    # A function that does union of two sets of x and y\n",
    "    # (uses union by rank)\n",
    "    def union(self, parent, rank, x, y):\n",
    "        xroot = self.find(parent, x)\n",
    "        yroot = self.find(parent, y)\n",
    " \n",
    "        # Attach smaller rank tree under root of\n",
    "        # high rank tree (Union by Rank)\n",
    "        if rank[xroot] < rank[yroot]:\n",
    "            parent[xroot] = yroot\n",
    "        elif rank[xroot] > rank[yroot]:\n",
    "            parent[yroot] = xroot\n",
    " \n",
    "        # If ranks are same, then make one as root\n",
    "        # and increment its rank by one\n",
    "        else:\n",
    "            parent[yroot] = xroot\n",
    "            rank[xroot] += 1\n",
    "            \n",
    "     # The main function to construct MST using Kruskal's\n",
    "        # algorithm\n",
    "    def KruskalMST(self):\n",
    " \n",
    "        result = []  # This will store the resultant MST\n",
    "         \n",
    "        # An index variable, used for sorted edges\n",
    "        i = 0\n",
    "         \n",
    "        # An index variable, used for result[]\n",
    "        e = 0\n",
    " \n",
    "        # Step 1:  Sort all the edges in\n",
    "        # non-decreasing order of their\n",
    "        # weight.  If we are not allowed to change the\n",
    "        # given graph, we can create a copy of graph\n",
    "        self.graph = sorted(self.graph,\n",
    "                            key=lambda item: item[2])\n",
    " \n",
    "        parent = []\n",
    "        rank = []\n",
    " \n",
    "        # Create V subsets with single elements\n",
    "        for node in range(self.V):\n",
    "            parent.append(node)\n",
    "            rank.append(0)\n",
    " \n",
    "        # Number of edges to be taken is equal to V-1\n",
    "        while e < self.V - 1:\n",
    " \n",
    "            # Step 2: Pick the smallest edge and increment\n",
    "            # the index for next iteration\n",
    "            u, v, w = self.graph[i]\n",
    "            i = i + 1\n",
    "            x = self.find(parent, u)\n",
    "            y = self.find(parent, v)\n",
    " \n",
    "            # If including this edge does't\n",
    "            #  cause cycle, include it in result\n",
    "            #  and increment the indexof result\n",
    "            # for next edge\n",
    "            if x != y:\n",
    "                e = e + 1\n",
    "                result.append([u, v, w])\n",
    "                self.union(parent, rank, x, y)\n",
    "            # Else discard the edge\n",
    " \n",
    "        minimumCost = 0\n",
    "        minimumGraph = []\n",
    "        print (\"Edges in the constructed MST\")\n",
    "        for u, v, weight in result:\n",
    "            minimumCost += weight\n",
    "            print(\"%d -- %d == %d\" % (u, v, weight))\n",
    "            minimumGraph.append([u, v])\n",
    "        print(\"Minimum Spanning Tree\" , minimumCost)\n",
    "        return minimumGraph           "
   ]
  },
  {
   "cell_type": "markdown",
   "id": "23be2463",
   "metadata": {},
   "source": [
    "# Uživatelské vstupy (vrcholy číslované od 0):"
   ]
  },
  {
   "cell_type": "code",
   "execution_count": null,
   "id": "2bc4e079",
   "metadata": {
    "scrolled": false
   },
   "outputs": [],
   "source": [
    "nodes = input(\"Počet vrcholů: \")\n",
    "g = Graph(int(nodes))\n",
    "\n",
    "edges = input(\"Počet hran: \")\n",
    "\n",
    "i = 0\n",
    "while i < int(edges):\n",
    "    node_u = input(\"Počáteční uzel hrany: \")\n",
    "    node_v = input(\"Cílový uzel hrany: \")\n",
    "    weight = input(\"Váha hrany: \")\n",
    "    i = i+1\n",
    "    g.addEdge(int(node_u), int(node_v), int(weight))"
   ]
  },
  {
   "cell_type": "markdown",
   "id": "23568c2b",
   "metadata": {},
   "source": [
    "# Graf dle zadání uživatele"
   ]
  },
  {
   "cell_type": "code",
   "execution_count": null,
   "id": "9f27c197",
   "metadata": {},
   "outputs": [],
   "source": [
    "g.visGraph()\n",
    "plt.show()"
   ]
  },
  {
   "cell_type": "markdown",
   "id": "39e6d9de",
   "metadata": {},
   "source": [
    "# Minimální kostra grafu"
   ]
  },
  {
   "cell_type": "code",
   "execution_count": null,
   "id": "cb4c8302",
   "metadata": {},
   "outputs": [],
   "source": [
    "minimumGraphEdges = g.KruskalMST()\n",
    "g.visMinimalGraph(minimumGraphEdges)\n",
    "plt.show()"
   ]
  }
 ],
 "metadata": {
  "kernelspec": {
   "display_name": "Python 3 (ipykernel)",
   "language": "python",
   "name": "python3"
  },
  "language_info": {
   "codemirror_mode": {
    "name": "ipython",
    "version": 3
   },
   "file_extension": ".py",
   "mimetype": "text/x-python",
   "name": "python",
   "nbconvert_exporter": "python",
   "pygments_lexer": "ipython3",
   "version": "3.9.7"
  }
 },
 "nbformat": 4,
 "nbformat_minor": 5
}
