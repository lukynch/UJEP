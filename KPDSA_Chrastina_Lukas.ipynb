{
 "cells": [
  {
   "cell_type": "markdown",
   "id": "c1fbd448",
   "metadata": {},
   "source": [
    "# Kruskalův algoritmus"
   ]
  },
  {
   "cell_type": "markdown",
   "id": "be358032",
   "metadata": {},
   "source": [
    "Kruskalův algoritmus lze použít pro nalezení minimální kostry grafu. Algoritmus nejprve seřadí hrany grafu dle jejich ohodnocení. Následně tyto hrany zkouší přidat do kostry tak, aby po přidání hrany nevznikl v dosavadní kostře cyklus. Pokud cyklus po přidání hrany do kostry nevznikne, je přidaná hrana součástí minimální kostry grafu. V opačném případě, kdy by po přidání hrany do kostry vznikl cyklus a tím by došlo k porušení vlastností kostry, hrana není přidána. Při přidávání hrany nemusíme testovat přítomnost cyklu, postačí zjistit, zdali přidávaná hrana spojuje různé komponenty souvislosti.\n",
    "\n",
    "V průběhu algoritmu testujeme hrany, zdali s nimi incidentní vrcholy patří do jedné či dvou komponent souvislosti. Tento problém se nazývá Union&Find. Union&Find problém je realizován dvěma operacemi, kterými jsou UNION, která sjednocuje dvě komponenty souvislosti, a FIND, která vrátí reprezentanta komponenty souvislosti pro daný vrchol grafu. Reprezentanta vybereme pro každou komponentu souvislosti pouze jednoho, tohoto reprezentanta sdílejí všechny vrcholy dané komponenty souvislosti."
   ]
  },
  {
   "cell_type": "markdown",
   "id": "fa851de0",
   "metadata": {},
   "source": [
    "# Import potřebných knihoven"
   ]
  },
  {
   "cell_type": "code",
   "execution_count": 1,
   "id": "7b0e896f",
   "metadata": {},
   "outputs": [],
   "source": [
    "import matplotlib.pyplot as plt\n",
    "import networkx as nx"
   ]
  },
  {
   "cell_type": "markdown",
   "id": "f77d9000",
   "metadata": {},
   "source": [
    "# Třída pro vytvoření a vykreslení grafu a nalezení minimální kostry"
   ]
  },
  {
   "cell_type": "code",
   "execution_count": 2,
   "id": "c3d79c40",
   "metadata": {},
   "outputs": [],
   "source": [
    "class Graph:\n",
    "    # init metoda s definovanými vrcholy\n",
    "    def __init__(self, vertices):\n",
    "        self.V = vertices\n",
    "        self.graph = []\n",
    "        self.G = nx.Graph()\n",
    "        \n",
    "    # metoda pro přidání hrany do grafu\n",
    "    def addEdge(self, u, v, w):\n",
    "        self.graph.append([u, v, w])\n",
    "        self.G.add_edge(u, v, weight=w)\n",
    "    \n",
    "    # metoda pro vizualizaci grafu\n",
    "    def visGraph(self):\n",
    "        self.pos = nx.spring_layout(self.G, seed = 4)\n",
    "        nx.draw_networkx_nodes(self.G, self.pos, node_size = 700)\n",
    "        nx.draw_networkx_edges(self.G, self.pos, edgelist = self.G.edges, width=6)\n",
    "        self.visLabels()\n",
    "    \n",
    "    # metoda pro vykreslení grafu se zvýrazněnou minimální kostrou\n",
    "    def visMinimalGraph(self, edges):\n",
    "        self.visGraph()\n",
    "        nx.draw_networkx_edges(g.G, self.pos, edgelist=edges, width=6, edge_color=\"c\")\n",
    "        self.visLabels()\n",
    "    \n",
    "    # metoda pro olablování grafu (z důvodu duplicitního kódu)\n",
    "    def visLabels(self):\n",
    "        nx.draw_networkx_labels(self.G, self.pos, font_size=20, font_family=\"sans-serif\")\n",
    "        labels = nx.get_edge_attributes(self.G, 'weight')\n",
    "        nx.draw_networkx_edge_labels(self.G, self.pos, edge_labels = labels)        \n",
    "\n",
    "    # metoda pro vyhledávání\n",
    "    def find(self, parent, i):\n",
    "        if parent[i] == i:\n",
    "            return i\n",
    "        return self.find(parent, parent[i])\n",
    " \n",
    "    # metoda pro spojení x a y\n",
    "    def union(self, parent, rank, x, y):\n",
    "        xroot = self.find(parent, x)\n",
    "        yroot = self.find(parent, y)\n",
    " \n",
    "        if rank[xroot] < rank[yroot]:\n",
    "            parent[xroot] = yroot\n",
    "        elif rank[xroot] > rank[yroot]:\n",
    "            parent[yroot] = xroot\n",
    "        else:\n",
    "            parent[yroot] = xroot\n",
    "            rank[xroot] += 1\n",
    "            \n",
    "    # Kruskalův algoritmus pro nalezení minimální kostry grafu\n",
    "    def kruskal(self):\n",
    " \n",
    "        result = []\n",
    "         \n",
    "        # index seřazených hran\n",
    "        i = 0\n",
    "         \n",
    "        # index výsledných hran\n",
    "        e = 0\n",
    " \n",
    "        # seřazení hran dle váhy\n",
    "        self.graph = sorted(self.graph, key=lambda item: item[2])\n",
    " \n",
    "        parent = []\n",
    "        rank = []\n",
    " \n",
    "        for node in range(self.V):\n",
    "            parent.append(node)\n",
    "            rank.append(0)\n",
    " \n",
    "        # počet výsledných hran se musí rovnat počtu vrcholů -1\n",
    "        while e < self.V - 1:\n",
    " \n",
    "            # Uložení hrany s nejmenší váhou\n",
    "            u, v, w = self.graph[i]\n",
    "            i = i + 1\n",
    "            x = self.find(parent, u)\n",
    "            y = self.find(parent, v)\n",
    " \n",
    "            if x != y:\n",
    "                e = e + 1\n",
    "                result.append([u, v, w])\n",
    "                self.union(parent, rank, x, y)\n",
    " \n",
    "        # uložení a vrácení výsledku\n",
    "        minimumGraph = []\n",
    "        for u, v, weight in result:\n",
    "            minimumGraph.append([u, v])\n",
    "        return minimumGraph           "
   ]
  },
  {
   "cell_type": "markdown",
   "id": "23be2463",
   "metadata": {},
   "source": [
    "# Uživatelské vstupy (vrcholy číslované od 0):"
   ]
  },
  {
   "cell_type": "code",
   "execution_count": 3,
   "id": "2bc4e079",
   "metadata": {
    "scrolled": false
   },
   "outputs": [
    {
     "name": "stdout",
     "output_type": "stream",
     "text": [
      "Počet vrcholů: 6\n",
      "Počet hran: 7\n",
      "Počáteční uzel hrany: 0\n",
      "Cílový uzel hrany: 1\n",
      "Váha hrany: 15\n",
      "Počáteční uzel hrany: 0\n",
      "Cílový uzel hrany: 2\n",
      "Váha hrany: 10\n",
      "Počáteční uzel hrany: 0\n",
      "Cílový uzel hrany: 3\n",
      "Váha hrany: 10\n",
      "Počáteční uzel hrany: 0\n",
      "Cílový uzel hrany: 4\n",
      "Váha hrany: 5\n",
      "Počáteční uzel hrany: 4\n",
      "Cílový uzel hrany: 5\n",
      "Váha hrany: 5\n",
      "Počáteční uzel hrany: 5\n",
      "Cílový uzel hrany: 2\n",
      "Váha hrany: 5\n",
      "Počáteční uzel hrany: 3\n",
      "Cílový uzel hrany: 1\n",
      "Váha hrany: 5\n"
     ]
    }
   ],
   "source": [
    "nodes = input(\"Počet vrcholů: \")\n",
    "g = Graph(int(nodes))\n",
    "\n",
    "edges = input(\"Počet hran: \")\n",
    "\n",
    "i = 0\n",
    "while i < int(edges):\n",
    "    node_u = input(\"Počáteční uzel hrany: \")\n",
    "    node_v = input(\"Cílový uzel hrany: \")\n",
    "    weight = input(\"Váha hrany: \")\n",
    "    i = i+1\n",
    "    g.addEdge(int(node_u), int(node_v), int(weight))"
   ]
  },
  {
   "cell_type": "markdown",
   "id": "23568c2b",
   "metadata": {},
   "source": [
    "# Graf dle zadání uživatele"
   ]
  },
  {
   "cell_type": "code",
   "execution_count": 4,
   "id": "9f27c197",
   "metadata": {},
   "outputs": [
    {
     "data": {
      "image/png": "[encoded data removed]",
      "text/plain": [
       "<Figure size 432x288 with 1 Axes>"
      ]
     },
     "metadata": {},
     "output_type": "display_data"
    }
   ],
   "source": [
    "g.visGraph()\n",
    "plt.show()"
   ]
  },
  {
   "cell_type": "markdown",
   "id": "39e6d9de",
   "metadata": {},
   "source": [
    "# Minimální kostra grafu"
   ]
  },
  {
   "cell_type": "code",
   "execution_count": 5,
   "id": "cb4c8302",
   "metadata": {},
   "outputs": [
    {
     "data": {
      "image/png": "[encoded data removed]",
      "text/plain": [
       "<Figure size 432x288 with 1 Axes>"
      ]
     },
     "metadata": {},
     "output_type": "display_data"
    }
   ],
   "source": [
    "minimumGraphEdges = g.kruskal()\n",
    "g.visMinimalGraph(minimumGraphEdges)\n",
    "plt.show()"
   ]
  }
 ],
 "metadata": {
  "kernelspec": {
   "display_name": "Python 3 (ipykernel)",
   "language": "python",
   "name": "python3"
  },
  "language_info": {
   "codemirror_mode": {
    "name": "ipython",
    "version": 3
   },
   "file_extension": ".py",
   "mimetype": "text/x-python",
   "name": "python",
   "nbconvert_exporter": "python",
   "pygments_lexer": "ipython3",
   "version": "3.9.7"
  }
 },
 "nbformat": 4,
 "nbformat_minor": 5
}
